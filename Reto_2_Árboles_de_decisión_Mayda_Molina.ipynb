{
  "nbformat": 4,
  "nbformat_minor": 0,
  "metadata": {
    "colab": {
      "provenance": [],
      "mount_file_id": "1KJeyocQB02iqCER6hiHUFR-1QbPhV53R",
      "authorship_tag": "ABX9TyOfvM+keIXktQnqn5mv5y52",
      "include_colab_link": true
    },
    "kernelspec": {
      "name": "python3",
      "display_name": "Python 3"
    },
    "language_info": {
      "name": "python"
    }
  },
  "cells": [
    {
      "cell_type": "markdown",
      "metadata": {
        "id": "view-in-github",
        "colab_type": "text"
      },
      "source": [
        "<a href=\"https://colab.research.google.com/github/Mamolinac/Business-intelligence/blob/main/Reto_2_%C3%81rboles_de_decisi%C3%B3n_Mayda_Molina.ipynb\" target=\"_parent\"><img src=\"https://colab.research.google.com/assets/colab-badge.svg\" alt=\"Open In Colab\"/></a>"
      ]
    },
    {
      "cell_type": "markdown",
      "source": [
        "0. Se procede con la carga de las librerías de trabajo"
      ],
      "metadata": {
        "id": "vdtJHqFXDJin"
      }
    },
    {
      "cell_type": "code",
      "source": [
        "import numpy as np\n",
        "import pandas as pd\n",
        "\n",
        "#Librerías Arbol\n",
        "from sklearn.tree import DecisionTreeClassifier\n",
        "from sklearn.metrics import confusion_matrix\n",
        "\n",
        "#Conectar al drive\n",
        "from google.colab import drive\n",
        "drive.mount('/content/drive')"
      ],
      "metadata": {
        "colab": {
          "base_uri": "https://localhost:8080/"
        },
        "id": "47U0sUwxDLAW",
        "outputId": "fb421f58-c96b-457f-92be-ea9a52482b82"
      },
      "execution_count": null,
      "outputs": [
        {
          "output_type": "stream",
          "name": "stdout",
          "text": [
            "Drive already mounted at /content/drive; to attempt to forcibly remount, call drive.mount(\"/content/drive\", force_remount=True).\n"
          ]
        }
      ]
    },
    {
      "cell_type": "markdown",
      "source": [
        "1. Se procede con la carga de los datos"
      ],
      "metadata": {
        "id": "ZnsgVXjAEJCF"
      }
    },
    {
      "cell_type": "code",
      "source": [
        "nxl='/content/drive/MyDrive/2. CollegeAdmisions_Int_M.xlsx'\n",
        "import pandas as pd\n",
        "XDB=pd.read_excel(nxl, sheet_name=0) #Base AAA\n",
        "XDB=XDB.dropna() #Eliminar filas vacías\n",
        "XDB.head(100) #Mostrar las 100 lineas del archivo\n",
        "\n",
        "#Cambiar de la variable 'Gender' el M o F por 0 y 1\n",
        "XDB['Gender'] = XDB['Gender'].map({'M': 0, 'F': 1})\n",
        "\n",
        "#seleccionar las variables\n",
        "XD=XDB[['Edu_Parent1','Edu_Parent2','Gender','White','Asian','HSGPA','SAT/ACT']]\n",
        "yd=XDB[['Admitted']]"
      ],
      "metadata": {
        "id": "qBYv3Z1qEK4l"
      },
      "execution_count": null,
      "outputs": []
    },
    {
      "cell_type": "markdown",
      "source": [
        "2. Determinar el número de personas que fueron admitidas en la universidad."
      ],
      "metadata": {
        "id": "GjfXi0udFSGP"
      }
    },
    {
      "cell_type": "code",
      "source": [
        "#Cambiar la variable 'Admitted' el Yes or No por 1 y 0\n",
        "XDB['Admitted'] = XDB['Admitted'].map({'Yes': 1, 'No': 0})\n",
        "\n",
        "#Contamos el número de datos de la base de datos\n",
        "total_datos=len(XDB)\n",
        "print(f\"El número total de datos de la base de datos es: {total_datos}\")\n",
        "\n",
        "#Ahora contamos el número de personas admitidas\n",
        "admitidos = XDB['Admitted'].sum()\n",
        "print(f\"El número de personas admitidas es: {admitidos}\")"
      ],
      "metadata": {
        "colab": {
          "base_uri": "https://localhost:8080/"
        },
        "id": "D-sjfzcKFTUD",
        "outputId": "3d0e2de0-3dd8-4b63-8515-3dd74efab22c"
      },
      "execution_count": null,
      "outputs": [
        {
          "output_type": "stream",
          "name": "stdout",
          "text": [
            "El número total de datos de la base de datos es: 1528\n",
            "El número de personas admitidas es: 1303\n"
          ]
        }
      ]
    },
    {
      "cell_type": "markdown",
      "source": [
        "3. Se procede con la implementación del modelo"
      ],
      "metadata": {
        "id": "3TCCd5rdGN1v"
      }
    },
    {
      "cell_type": "code",
      "source": [
        "mar=DecisionTreeClassifier(criterion='gini', max_depth=4)\n",
        "mar.fit(XD,yd)\n",
        "\n",
        "#Se procede con la gráfica\n",
        "from pydotplus import graph_from_dot_data #Me cra la gráfica\n",
        "from sklearn.tree import export_graphviz  #Me exporta a PNG, TIFF\n",
        "\n",
        "\n",
        "ve=['Edu_Parent1','Edu_Parent2','Gender','White','Asian','HSGPA','SAT/ACT'] #Nombres para el árbol\n",
        "dot_data=export_graphviz(mar,feature_names=ve) #Crear el gráfico\n",
        "graph=graph_from_dot_data(dot_data)\n",
        "graph.write_png('Reto 2.ArbolDecision_M.png')"
      ],
      "metadata": {
        "colab": {
          "base_uri": "https://localhost:8080/"
        },
        "id": "SEfaJecHGSKl",
        "outputId": "d86d1e66-ecd1-42ce-afb6-9e6257efb7e6"
      },
      "execution_count": null,
      "outputs": [
        {
          "output_type": "execute_result",
          "data": {
            "text/plain": [
              "True"
            ]
          },
          "metadata": {},
          "execution_count": 8
        }
      ]
    },
    {
      "cell_type": "markdown",
      "source": [
        "4. Determinar el número de Nodos puros para el arbol"
      ],
      "metadata": {
        "id": "wIWci78CIVm6"
      }
    },
    {
      "cell_type": "code",
      "source": [
        "import numpy as np\n",
        "\n",
        "def contar_nodos_puros(arbol_decision, X, y):\n",
        "    \"\"\"\n",
        "    Cuenta el número de nodos puros en un árbol de decisión.\n",
        "\n",
        "    Args:\n",
        "        arbol_decision: Un objeto DecisionTreeClassifier entrenado.\n",
        "        X: Los datos de entrada.\n",
        "        y: Las etiquetas de salida.\n",
        "\n",
        "    Returns:\n",
        "        El número de nodos puros en el árbol.\n",
        "    \"\"\"\n",
        "\n",
        "    n_nodos = arbol_decision.tree_.node_count\n",
        "    valores_nodos = arbol_decision.tree_.value\n",
        "    nodos_puros = 0\n",
        "\n",
        "    for i in range(n_nodos):\n",
        "        if np.max(valores_nodos[i]) == np.sum(valores_nodos[i]):\n",
        "            nodos_puros += 1\n",
        "\n",
        "    return nodos_puros\n",
        "\n",
        "# Ejemplo de uso:\n",
        "num_nodos_puros = contar_nodos_puros(mar, XD, yd)\n",
        "print(f\"Número de nodos puros en el árbol: {num_nodos_puros}\")"
      ],
      "metadata": {
        "colab": {
          "base_uri": "https://localhost:8080/"
        },
        "id": "Ni8xBqYJIbYv",
        "outputId": "33d85b05-0b68-494a-d11d-3c4d6f0ba432"
      },
      "execution_count": null,
      "outputs": [
        {
          "output_type": "stream",
          "name": "stdout",
          "text": [
            "Número de nodos puros en el árbol: 7\n"
          ]
        }
      ]
    },
    {
      "cell_type": "markdown",
      "source": [
        "5. Llevar acabo pronóstico de la admisión para las personas agrupadas en la base de datos"
      ],
      "metadata": {
        "id": "VEU_BhQgIs1m"
      }
    },
    {
      "cell_type": "code",
      "source": [
        "# Cargar la base de datos de pronóstico\n",
        "XDB0 = pd.read_excel(nxl, sheet_name=1)\n",
        "XDB0.head(100)\n",
        "\n",
        "# Convertir 'Gender' a valores numéricos\n",
        "XDB0['Gender'] = XDB0['Gender'].map({'M': 0, 'F': 1})\n",
        "\n",
        "# Convertir 'Admitted' a valores numéricos\n",
        "XDB0['Admitted'] = XDB0['Admitted'].map({'Yes': 1, 'No': 0})\n",
        "\n",
        "# Seleccionar las variables de entrada y salida\n",
        "XD0 = XDB0[['Edu_Parent1', 'Edu_Parent2', 'Gender', 'White', 'Asian', 'HSGPA', 'SAT/ACT']].values\n",
        "YD0 = XDB0[['Admitted']].values  # Esto es solo para referencia, no se usa en la predicción\n",
        "\n",
        "# Realizar el pronóstico de admisión para todos los estudiantes\n",
        "y_pred = mar.predict(XD0)\n",
        "\n",
        "# Crear el informe en Excel con los resultados\n",
        "df = pd.DataFrame(np.column_stack((XDB0.index, XD0, y_pred)))\n",
        "df.columns = ['Solicitante', 'Edu_Parent1', 'Edu_Parent2', 'Gender', 'White', 'Asian', 'HSGPA', 'SAT/ACT', 'Admitted_Pred']\n",
        "\n",
        "# Guardar el resultado en un archivo de Excel\n",
        "df.to_excel(\"/content/drive/MyDrive/CollegeAdmisions_Pronostico.xlsx\")\n",
        "\n",
        "print(\"El pronóstico de admisión ha sido guardado en 'CollegeAdmisions_Pronostico.xlsx'.\")\n"
      ],
      "metadata": {
        "colab": {
          "base_uri": "https://localhost:8080/"
        },
        "id": "PuyLwhHfI7ul",
        "outputId": "e5377126-71f8-4661-c7d1-23d9eddb25d1"
      },
      "execution_count": null,
      "outputs": [
        {
          "output_type": "stream",
          "name": "stderr",
          "text": [
            "/usr/local/lib/python3.11/dist-packages/sklearn/utils/validation.py:2739: UserWarning: X does not have valid feature names, but DecisionTreeClassifier was fitted with feature names\n",
            "  warnings.warn(\n"
          ]
        },
        {
          "output_type": "stream",
          "name": "stdout",
          "text": [
            "El pronóstico de admisión ha sido guardado en 'CollegeAdmisions_Pronostico.xlsx'.\n"
          ]
        }
      ]
    },
    {
      "cell_type": "markdown",
      "source": [
        "**Descripción de los datos**\n",
        "\n",
        "\n",
        "\n",
        "\n",
        "En este ejercicio, el análisis se enfocará en siete variables clave que se detallarán más adelante. El objetivo es evaluar la precisión del modelo de árboles de decisión en la estimación de la probabilidad de admisión de los estudiantes a una universidad.\n",
        "\n",
        "**Descripción de las variables**\n",
        "\n",
        "**Edu_Parent1:** Nivel educativo alcanzado por el primer padre o tutor del solicitante.\n",
        "\n",
        "**Edu_Parent2:** Nivel educativo alcanzado por el segundo padre o tutor del solicitante.\n",
        "Gender: Género del solicitante, donde 0 representa masculino y 1 femenino.\n",
        "\n",
        "**White:** Variable categórica que indica si el solicitante se identifica como blanco (1) o no (0).\n",
        "Asian: Variable categórica que señala si el solicitante se identifica como asiático (1) o no (0).\n",
        "\n",
        "**HSGPA:** Promedio de calificaciones obtenido por el solicitante durante la educación secundaria.\n",
        "\n",
        "**SAT/ACT:** Puntaje obtenido en los exámenes de admisión estandarizados SAT o ACT.\n",
        "\n",
        "**Admitted_Pred:** Variable binaria que indica si el solicitante fue admitido (1) o no (0) en la universidad."
      ],
      "metadata": {
        "id": "dmc7zQUH8p1G"
      }
    },
    {
      "cell_type": "markdown",
      "source": [
        "4. Evaluar el comportamiento del modelo.\n"
      ],
      "metadata": {
        "id": "D-MzaXoM8wAV"
      }
    },
    {
      "cell_type": "code",
      "source": [
        "ydp=mar.predict(XD) #Pronóstico sobre la base de datos original\n",
        "cm=confusion_matrix(yd,ydp)\n",
        "print(\"La matriz de confusión es: \\n\",cm)\n",
        "\n",
        "VN=cm[0,0];FP=cm[0,1];FN=cm[1,0];VP=cm[1,1]\n",
        "\n",
        "\n",
        "#Métricas de desempeño\n",
        "EX=(VP+VN)/(VP+VN+FP+FN) #Exactitud admitiendo o no admitiendo\n",
        "print('La exactitud del modelo es:\\n',EX)\n",
        "\n",
        "TE=(FN+FP)/(VP+VN+FP+FN) #Tasa de error: Es la proporción de predicciones incorrectas sobre el total de predicciones. Indica el porcentaje de estudiantes que el modelo clasificó erróneamente.\n",
        "print('La tasa de error del modelo es:\\n',TE)\n",
        "\n",
        "SE=VP/(VP+FN) #Sensibilidad correctamente admitiendo\n",
        "print('La sensibilidad del modelo es:\\n',SE)\n",
        "\n",
        "SP=VN/(VN+FP) #Especificidad correctamente no admitiendo\n",
        "print('La especificidad del modelo es:\\n',SP)\n",
        "\n",
        "PR=VP/(VP+FP) #Precisión de los admitidos los correctos\n",
        "print('La precisión del modelo es:\\n',PR)\n",
        "\n",
        "PRNeng=VN/(VN+FN) #Precisión Negativa  de los no admitidos correctos\n",
        "print('La precisión negativa del modelo es:\\n',PRNeng)\n"
      ],
      "metadata": {
        "colab": {
          "base_uri": "https://localhost:8080/"
        },
        "id": "aeoIPEcX80tZ",
        "outputId": "6b0f5931-fa6b-4695-e88b-b87a59eec85e"
      },
      "execution_count": null,
      "outputs": [
        {
          "output_type": "stream",
          "name": "stdout",
          "text": [
            "La matriz de confusión es: \n",
            " [[  20  205]\n",
            " [   2 1301]]\n",
            "La exactitud del modelo es:\n",
            " 0.8645287958115183\n",
            "La tasa de error del modelo es:\n",
            " 0.1354712041884817\n",
            "La sensibilidad del modelo es:\n",
            " 0.9984650805832693\n",
            "La especificidad del modelo es:\n",
            " 0.08888888888888889\n",
            "La precisión del modelo es:\n",
            " 0.8638778220451527\n",
            "La precisión negativa del modelo es:\n",
            " 0.9090909090909091\n"
          ]
        }
      ]
    },
    {
      "cell_type": "markdown",
      "source": [
        "**Análisis de las métricas**\n",
        "\n",
        "\n",
        "El modelo de clasificación fue evaluado utilizando un total de 1528 registros, donde 1303 estudiantes fueron admitidos y 225 no lo fueron.\n",
        "\n",
        "De acuerdo con la matriz de confusión, el modelo identificó correctamente a 1301 estudiantes admitidos y a 20 no admitidos. No obstante, cometió 205 errores al clasificar como falsos positivos y solo tuvo 2 casos en los que admitidos fueron clasificados erróneamente como no admitidos falsos negativos.\n",
        "\n",
        "La exactitud general del modelo es del 86.45%, lo que indica un buen desempeño en la clasificación de los estudiantes admitidos o no que identifica correctamente el modelo.  La sensibilidad alcanza un 99.85%, lo que significa que el modelo es altamente efectivo para identificar a los estudiantes admitidos. Además, la precisión del 86.39% sugiere que la mayoría de los casos predichos como admitidos realmente lo son. Sin embargo, la especificidad es baja, con un 8.89%, lo que implica que el modelo tiene dificultades para reconocer correctamente a los estudiantes no admitidos.\n",
        "La precisión negativa del 90.91% indica que la mayoría de los casos identificados como no admitidos fueron correctamente clasificados.\n",
        "\n",
        "En resumen, el modelo es confiable para predecir la admisión de estudiantes, pero no tanto para aquellos que no fueron admitidos.\n",
        "\n"
      ],
      "metadata": {
        "id": "8dsqNnbK_DvT"
      }
    }
  ]
}